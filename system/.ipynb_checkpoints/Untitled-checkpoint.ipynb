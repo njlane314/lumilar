{
 "cells": [
  {
   "cell_type": "code",
   "execution_count": 17,
   "id": "9d1b0143-b164-4d07-8e78-7ddf5b93ece0",
   "metadata": {
    "tags": []
   },
   "outputs": [],
   "source": [
    "import math\n",
    "\n",
    "def ev_to_wavelength(eV):\n",
    "    # Constants\n",
    "    h = 6.62607004e-34  # Planck's constant in joule-seconds\n",
    "    c = 299792458       # Speed of light in meters per second\n",
    "\n",
    "    # Convert eV to joules\n",
    "    joules = eV * 1.60218e-19\n",
    "\n",
    "    # Calculate wavelength in meters\n",
    "    wavelength = h * c / joules\n",
    "\n",
    "    # Convert meters to nanometers\n",
    "    wavelength_nm = wavelength * 1e9\n",
    "\n",
    "    return wavelength_nm\n"
   ]
  },
  {
   "cell_type": "code",
   "execution_count": 18,
   "id": "ae9d5854-6920-4779-bfb4-80e6e7daf455",
   "metadata": {
    "tags": []
   },
   "outputs": [
    {
     "name": "stdout",
     "output_type": "stream",
     "text": [
      "58317.38598479422\n"
     ]
    }
   ],
   "source": [
    "print(ev_to_wavelength(323))\n"
   ]
  },
  {
   "cell_type": "code",
   "execution_count": null,
   "id": "c501bc71-5358-4c7c-8ad2-804b1e2a0900",
   "metadata": {},
   "outputs": [],
   "source": []
  }
 ],
 "metadata": {
  "kernelspec": {
   "display_name": "Python 3 (ipykernel)",
   "language": "python",
   "name": "python3"
  },
  "language_info": {
   "codemirror_mode": {
    "name": "ipython",
    "version": 3
   },
   "file_extension": ".py",
   "mimetype": "text/x-python",
   "name": "python",
   "nbconvert_exporter": "python",
   "pygments_lexer": "ipython3",
   "version": "3.10.6"
  }
 },
 "nbformat": 4,
 "nbformat_minor": 5
}
