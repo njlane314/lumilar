{
 "cells": [
  {
   "cell_type": "code",
   "execution_count": null,
   "metadata": {},
   "outputs": [],
   "source": [
    "import numpy as np\n",
    "import matplotlib.pyplot as plt\n",
    "import uproot\n",
    "import awkward as ak\n",
    "\n",
    "import matplotlib.pyplot as plt\n",
    "import matplotlib as mpl\n",
    "import seaborn as sns"
   ]
  },
  {
   "cell_type": "code",
   "execution_count": null,
   "metadata": {},
   "outputs": [],
   "source": [
    "def read_root_file(root_file_path):\n",
    "    with uproot.open(root_file_path) as root_file:\n",
    "        arrival_photons_tree = root_file[\"arrival_photons_tree\"]\n",
    "\n",
    "        sensor_arrival_times = arrival_photons_tree[\"sensor_arrival_times\"].array()\n",
    "\n",
    "        return sensor_arrival_times"
   ]
  },
  {
   "cell_type": "code",
   "execution_count": null,
   "metadata": {},
   "outputs": [],
   "source": [
    "def precision(true_positives, false_positives):\n",
    "    if true_positives + false_positives == 0:\n",
    "        return 0\n",
    "    return true_positives / (true_positives + false_positives)\n",
    "\n",
    "\n",
    "def sensitivity(true_positives, false_negatives):\n",
    "    if true_positives + false_negatives == 0:\n",
    "        return 0\n",
    "    return true_positives / (true_positives + false_negatives)\n",
    "\n",
    "\n",
    "def f1_score(true_positives, false_positives, false_negatives):\n",
    "    p = precision(true_positives, false_positives)\n",
    "    r = sensitivity(true_positives, false_negatives)\n",
    "    \n",
    "    if p + r == 0:\n",
    "        return 0\n",
    "    return 2 * (p * r) / (p + r)\n"
   ]
  },
  {
   "cell_type": "code",
   "execution_count": null,
   "metadata": {},
   "outputs": [],
   "source": [
    "# "
   ]
  }
 ],
 "metadata": {
  "language_info": {
   "name": "python"
  },
  "orig_nbformat": 4
 },
 "nbformat": 4,
 "nbformat_minor": 2
}
